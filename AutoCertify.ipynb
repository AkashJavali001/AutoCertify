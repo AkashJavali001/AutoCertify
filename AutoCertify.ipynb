{
  "nbformat": 4,
  "nbformat_minor": 0,
  "metadata": {
    "colab": {
      "provenance": [],
      "authorship_tag": "ABX9TyP+RcHsxoQwiI1RxhUUkx4b",
      "include_colab_link": true
    },
    "kernelspec": {
      "name": "python3",
      "display_name": "Python 3"
    },
    "language_info": {
      "name": "python"
    }
  },
  "cells": [
    {
      "cell_type": "markdown",
      "metadata": {
        "id": "view-in-github",
        "colab_type": "text"
      },
      "source": [
        "<a href=\"https://colab.research.google.com/github/AkashJavali001/AutoCertify/blob/main/AutoCertify.ipynb\" target=\"_parent\"><img src=\"https://colab.research.google.com/assets/colab-badge.svg\" alt=\"Open In Colab\"/></a>"
      ]
    },
    {
      "cell_type": "markdown",
      "source": [
        "# RUN ALL THE CELLS ONE BY ONE, MAKE SURE TO UPLOAD ALL THE NECESSARY FILES (CERTIFICATE TEMPLATE, NAMES IN EXCEL SHEET)."
      ],
      "metadata": {
        "id": "v2FnPnfMW9uJ"
      }
    },
    {
      "cell_type": "code",
      "source": [
        "!pip install pymupdf pandas openpyxl"
      ],
      "metadata": {
        "colab": {
          "base_uri": "https://localhost:8080/"
        },
        "id": "f7vUuhrpXyNq",
        "outputId": "b5dcf977-0f39-4b9e-9ff2-87353d67c3b0"
      },
      "execution_count": null,
      "outputs": [
        {
          "output_type": "stream",
          "name": "stdout",
          "text": [
            "Requirement already satisfied: pymupdf in /usr/local/lib/python3.10/dist-packages (1.24.11)\n",
            "Requirement already satisfied: pandas in /usr/local/lib/python3.10/dist-packages (2.2.2)\n",
            "Requirement already satisfied: openpyxl in /usr/local/lib/python3.10/dist-packages (3.1.5)\n",
            "Requirement already satisfied: numpy>=1.22.4 in /usr/local/lib/python3.10/dist-packages (from pandas) (1.26.4)\n",
            "Requirement already satisfied: python-dateutil>=2.8.2 in /usr/local/lib/python3.10/dist-packages (from pandas) (2.8.2)\n",
            "Requirement already satisfied: pytz>=2020.1 in /usr/local/lib/python3.10/dist-packages (from pandas) (2024.2)\n",
            "Requirement already satisfied: tzdata>=2022.7 in /usr/local/lib/python3.10/dist-packages (from pandas) (2024.2)\n",
            "Requirement already satisfied: et-xmlfile in /usr/local/lib/python3.10/dist-packages (from openpyxl) (1.1.0)\n",
            "Requirement already satisfied: six>=1.5 in /usr/local/lib/python3.10/dist-packages (from python-dateutil>=2.8.2->pandas) (1.16.0)\n"
          ]
        }
      ]
    },
    {
      "cell_type": "code",
      "source": [
        "from google.colab import files\n",
        "uploaded = files.upload()"
      ],
      "metadata": {
        "colab": {
          "base_uri": "https://localhost:8080/",
          "height": 74
        },
        "id": "HGJKBty_X1aa",
        "outputId": "10522fc1-c62a-431b-ec75-e8e1acaecf8e"
      },
      "execution_count": null,
      "outputs": [
        {
          "output_type": "display_data",
          "data": {
            "text/plain": [
              "<IPython.core.display.HTML object>"
            ],
            "text/html": [
              "\n",
              "     <input type=\"file\" id=\"files-fe355559-8011-4680-99b3-403356060b3f\" name=\"files[]\" multiple disabled\n",
              "        style=\"border:none\" />\n",
              "     <output id=\"result-fe355559-8011-4680-99b3-403356060b3f\">\n",
              "      Upload widget is only available when the cell has been executed in the\n",
              "      current browser session. Please rerun this cell to enable.\n",
              "      </output>\n",
              "      <script>// Copyright 2017 Google LLC\n",
              "//\n",
              "// Licensed under the Apache License, Version 2.0 (the \"License\");\n",
              "// you may not use this file except in compliance with the License.\n",
              "// You may obtain a copy of the License at\n",
              "//\n",
              "//      http://www.apache.org/licenses/LICENSE-2.0\n",
              "//\n",
              "// Unless required by applicable law or agreed to in writing, software\n",
              "// distributed under the License is distributed on an \"AS IS\" BASIS,\n",
              "// WITHOUT WARRANTIES OR CONDITIONS OF ANY KIND, either express or implied.\n",
              "// See the License for the specific language governing permissions and\n",
              "// limitations under the License.\n",
              "\n",
              "/**\n",
              " * @fileoverview Helpers for google.colab Python module.\n",
              " */\n",
              "(function(scope) {\n",
              "function span(text, styleAttributes = {}) {\n",
              "  const element = document.createElement('span');\n",
              "  element.textContent = text;\n",
              "  for (const key of Object.keys(styleAttributes)) {\n",
              "    element.style[key] = styleAttributes[key];\n",
              "  }\n",
              "  return element;\n",
              "}\n",
              "\n",
              "// Max number of bytes which will be uploaded at a time.\n",
              "const MAX_PAYLOAD_SIZE = 100 * 1024;\n",
              "\n",
              "function _uploadFiles(inputId, outputId) {\n",
              "  const steps = uploadFilesStep(inputId, outputId);\n",
              "  const outputElement = document.getElementById(outputId);\n",
              "  // Cache steps on the outputElement to make it available for the next call\n",
              "  // to uploadFilesContinue from Python.\n",
              "  outputElement.steps = steps;\n",
              "\n",
              "  return _uploadFilesContinue(outputId);\n",
              "}\n",
              "\n",
              "// This is roughly an async generator (not supported in the browser yet),\n",
              "// where there are multiple asynchronous steps and the Python side is going\n",
              "// to poll for completion of each step.\n",
              "// This uses a Promise to block the python side on completion of each step,\n",
              "// then passes the result of the previous step as the input to the next step.\n",
              "function _uploadFilesContinue(outputId) {\n",
              "  const outputElement = document.getElementById(outputId);\n",
              "  const steps = outputElement.steps;\n",
              "\n",
              "  const next = steps.next(outputElement.lastPromiseValue);\n",
              "  return Promise.resolve(next.value.promise).then((value) => {\n",
              "    // Cache the last promise value to make it available to the next\n",
              "    // step of the generator.\n",
              "    outputElement.lastPromiseValue = value;\n",
              "    return next.value.response;\n",
              "  });\n",
              "}\n",
              "\n",
              "/**\n",
              " * Generator function which is called between each async step of the upload\n",
              " * process.\n",
              " * @param {string} inputId Element ID of the input file picker element.\n",
              " * @param {string} outputId Element ID of the output display.\n",
              " * @return {!Iterable<!Object>} Iterable of next steps.\n",
              " */\n",
              "function* uploadFilesStep(inputId, outputId) {\n",
              "  const inputElement = document.getElementById(inputId);\n",
              "  inputElement.disabled = false;\n",
              "\n",
              "  const outputElement = document.getElementById(outputId);\n",
              "  outputElement.innerHTML = '';\n",
              "\n",
              "  const pickedPromise = new Promise((resolve) => {\n",
              "    inputElement.addEventListener('change', (e) => {\n",
              "      resolve(e.target.files);\n",
              "    });\n",
              "  });\n",
              "\n",
              "  const cancel = document.createElement('button');\n",
              "  inputElement.parentElement.appendChild(cancel);\n",
              "  cancel.textContent = 'Cancel upload';\n",
              "  const cancelPromise = new Promise((resolve) => {\n",
              "    cancel.onclick = () => {\n",
              "      resolve(null);\n",
              "    };\n",
              "  });\n",
              "\n",
              "  // Wait for the user to pick the files.\n",
              "  const files = yield {\n",
              "    promise: Promise.race([pickedPromise, cancelPromise]),\n",
              "    response: {\n",
              "      action: 'starting',\n",
              "    }\n",
              "  };\n",
              "\n",
              "  cancel.remove();\n",
              "\n",
              "  // Disable the input element since further picks are not allowed.\n",
              "  inputElement.disabled = true;\n",
              "\n",
              "  if (!files) {\n",
              "    return {\n",
              "      response: {\n",
              "        action: 'complete',\n",
              "      }\n",
              "    };\n",
              "  }\n",
              "\n",
              "  for (const file of files) {\n",
              "    const li = document.createElement('li');\n",
              "    li.append(span(file.name, {fontWeight: 'bold'}));\n",
              "    li.append(span(\n",
              "        `(${file.type || 'n/a'}) - ${file.size} bytes, ` +\n",
              "        `last modified: ${\n",
              "            file.lastModifiedDate ? file.lastModifiedDate.toLocaleDateString() :\n",
              "                                    'n/a'} - `));\n",
              "    const percent = span('0% done');\n",
              "    li.appendChild(percent);\n",
              "\n",
              "    outputElement.appendChild(li);\n",
              "\n",
              "    const fileDataPromise = new Promise((resolve) => {\n",
              "      const reader = new FileReader();\n",
              "      reader.onload = (e) => {\n",
              "        resolve(e.target.result);\n",
              "      };\n",
              "      reader.readAsArrayBuffer(file);\n",
              "    });\n",
              "    // Wait for the data to be ready.\n",
              "    let fileData = yield {\n",
              "      promise: fileDataPromise,\n",
              "      response: {\n",
              "        action: 'continue',\n",
              "      }\n",
              "    };\n",
              "\n",
              "    // Use a chunked sending to avoid message size limits. See b/62115660.\n",
              "    let position = 0;\n",
              "    do {\n",
              "      const length = Math.min(fileData.byteLength - position, MAX_PAYLOAD_SIZE);\n",
              "      const chunk = new Uint8Array(fileData, position, length);\n",
              "      position += length;\n",
              "\n",
              "      const base64 = btoa(String.fromCharCode.apply(null, chunk));\n",
              "      yield {\n",
              "        response: {\n",
              "          action: 'append',\n",
              "          file: file.name,\n",
              "          data: base64,\n",
              "        },\n",
              "      };\n",
              "\n",
              "      let percentDone = fileData.byteLength === 0 ?\n",
              "          100 :\n",
              "          Math.round((position / fileData.byteLength) * 100);\n",
              "      percent.textContent = `${percentDone}% done`;\n",
              "\n",
              "    } while (position < fileData.byteLength);\n",
              "  }\n",
              "\n",
              "  // All done.\n",
              "  yield {\n",
              "    response: {\n",
              "      action: 'complete',\n",
              "    }\n",
              "  };\n",
              "}\n",
              "\n",
              "scope.google = scope.google || {};\n",
              "scope.google.colab = scope.google.colab || {};\n",
              "scope.google.colab._files = {\n",
              "  _uploadFiles,\n",
              "  _uploadFilesContinue,\n",
              "};\n",
              "})(self);\n",
              "</script> "
            ]
          },
          "metadata": {}
        },
        {
          "output_type": "stream",
          "name": "stdout",
          "text": [
            "Saving CERTIFICATE (1).pdf to CERTIFICATE (1).pdf\n"
          ]
        }
      ]
    },
    {
      "cell_type": "code",
      "source": [
        "import os\n",
        "import fitz\n",
        "import pandas as pd\n",
        "excel_file = \"participants.xlsx\" # make sure the files name match as this\n",
        "df = pd.read_excel(excel_file)\n",
        "df.columns = df.columns.str.strip()\n",
        "template_path = \"CERTIFICATE (1).pdf\"# make sure the names match as this\n",
        "y = 300 # here, need to make sure that the alignment of text appears in the blank spot of the certificate where it intends to be\n",
        "font_size = 46\n",
        "font_path = \"times.ttf\"\n",
        "font_name = \"Times-Roman\"\n",
        "output_folder = \"certificates\"\n",
        "os.makedirs(output_folder, exist_ok=True)\n",
        "for name in df['Name']:\n",
        "    pdf_template = fitz.open(template_path)\n",
        "    page = pdf_template[0]\n",
        "    uppercase_name = name.upper()\n",
        "    text_length = fitz.get_text_length(uppercase_name, fontname=font_name, fontsize=font_size)\n",
        "    page_width = page.rect.width\n",
        "    x = (page_width - text_length) / 2\n",
        "    page.insert_text((x, y), uppercase_name, fontsize=font_size, fontname=font_name, color=(0, 0, 0), fontfile=font_path)\n",
        "    output_path = os.path.join(output_folder, f\"{uppercase_name}_certificate.pdf\")\n",
        "    pdf_template.save(output_path)\n",
        "    pdf_template.close()\n",
        "print(f\"Certificates created successfully in the '{output_folder}' folder!\")\n"
      ],
      "metadata": {
        "colab": {
          "base_uri": "https://localhost:8080/"
        },
        "id": "JkYPOhLNX_KP",
        "outputId": "65749d1c-58b3-465b-e5c8-9429d201ba72"
      },
      "execution_count": null,
      "outputs": [
        {
          "output_type": "stream",
          "name": "stdout",
          "text": [
            "Certificates created successfully in the 'certificates' folder!\n"
          ]
        }
      ]
    },
    {
      "cell_type": "code",
      "source": [
        "!zip -r certificates.zip certificates # converts the file to zip format for easy download"
      ],
      "metadata": {
        "colab": {
          "base_uri": "https://localhost:8080/"
        },
        "id": "nvQnVOwkd0Af",
        "outputId": "d944e5a6-95d4-44f1-d536-e88bf5bfa3bc"
      },
      "execution_count": null,
      "outputs": [
        {
          "output_type": "stream",
          "name": "stdout",
          "text": [
            "  adding: certificates/ (stored 0%)\n",
            "  adding: certificates/YASHASWI _certificate.pdf (deflated 10%)\n",
            "  adding: certificates/VASUDEVA_certificate.pdf (deflated 10%)\n",
            "  adding: certificates/KARTHIK RAVI ACHARI _certificate.pdf (deflated 10%)\n",
            "  adding: certificates/MAHITHA _certificate.pdf (deflated 10%)\n",
            "  adding: certificates/SRUSHTI G V_certificate.pdf (deflated 10%)\n",
            "  adding: certificates/VIGNESH.C.K _certificate.pdf (deflated 10%)\n",
            "  adding: certificates/RITHESH KUMAR _certificate.pdf (deflated 10%)\n",
            "  adding: certificates/SIDDHARTH K _certificate.pdf (deflated 10%)\n",
            "  adding: certificates/SYED ADNAN AHMED _certificate.pdf (deflated 10%)\n",
            "  adding: certificates/KARTHIK BALIGA _certificate.pdf (deflated 10%)\n",
            "  adding: certificates/ANIRUDHA UDUPA _certificate.pdf (deflated 10%)\n",
            "  adding: certificates/KARUNA NAYAK. S_certificate.pdf (deflated 10%)\n",
            "  adding: certificates/AKASH KISHOR BANDEKAR_certificate.pdf (deflated 10%)\n",
            "  adding: certificates/SUMEDHA_certificate.pdf (deflated 10%)\n",
            "  adding: certificates/GAGAN T KOTTARY _certificate.pdf (deflated 10%)\n",
            "  adding: certificates/SUJAL V KANCHAN _certificate.pdf (deflated 10%)\n",
            "  adding: certificates/PREETHAM _certificate.pdf (deflated 10%)\n",
            "  adding: certificates/NIMITH_certificate.pdf (deflated 10%)\n",
            "  adding: certificates/GAUTHAMI_certificate.pdf (deflated 10%)\n",
            "  adding: certificates/CHITRA_certificate.pdf (deflated 10%)\n",
            "  adding: certificates/SATHWIK K ACHARYA _certificate.pdf (deflated 10%)\n",
            "  adding: certificates/RAKSHITHA_certificate.pdf (deflated 10%)\n",
            "  adding: certificates/J SHEETHAL SHIVANI _certificate.pdf (deflated 10%)\n",
            "  adding: certificates/AMBIKA HEBBAR_certificate.pdf (deflated 10%)\n",
            "  adding: certificates/PRATHAM R_certificate.pdf (deflated 10%)\n",
            "  adding: certificates/AKASH JAYAN_certificate.pdf (deflated 10%)\n",
            "  adding: certificates/RAKSHITHA B BHAJENTRI _certificate.pdf (deflated 10%)\n",
            "  adding: certificates/PRIYANKA NAYAK_certificate.pdf (deflated 10%)\n",
            "  adding: certificates/ABHISHEK  SUDESH NAIK _certificate.pdf (deflated 10%)\n",
            "  adding: certificates/JAYASHREE AR _certificate.pdf (deflated 10%)\n",
            "  adding: certificates/KRISHNA H PALLAN_certificate.pdf (deflated 10%)\n",
            "  adding: certificates/AKSHATA KRISHNA HEGDE _certificate.pdf (deflated 10%)\n",
            "  adding: certificates/KEERTHANA K_certificate.pdf (deflated 10%)\n",
            "  adding: certificates/KIRAN S M_certificate.pdf (deflated 10%)\n",
            "  adding: certificates/PAVITHRA A PRABHU _certificate.pdf (deflated 10%)\n",
            "  adding: certificates/CHARITHRA G GANIGA_certificate.pdf (deflated 10%)\n",
            "  adding: certificates/MANVITHA RAO _certificate.pdf (deflated 10%)\n",
            "  adding: certificates/AASHVI_certificate.pdf (deflated 10%)\n",
            "  adding: certificates/NANDEESH TJ_certificate.pdf (deflated 10%)\n",
            "  adding: certificates/GURUPRASAD VISHNU BHAT_certificate.pdf (deflated 10%)\n",
            "  adding: certificates/ROLWIN MELRON DSOUZA _certificate.pdf (deflated 10%)\n",
            "  adding: certificates/LISHA CLAVIA RODRIGUES _certificate.pdf (deflated 10%)\n",
            "  adding: certificates/MUKESH_certificate.pdf (deflated 10%)\n",
            "  adding: certificates/PAYAL_certificate.pdf (deflated 10%)\n",
            "  adding: certificates/HIBA HALEEMA _certificate.pdf (deflated 10%)\n",
            "  adding: certificates/VARUN RAJ _certificate.pdf (deflated 10%)\n",
            "  adding: certificates/SIDDARTH KINI ULLAL_certificate.pdf (deflated 10%)\n",
            "  adding: certificates/LIKITH G_certificate.pdf (deflated 10%)\n",
            "  adding: certificates/MOHINI PAI_certificate.pdf (deflated 10%)\n",
            "  adding: certificates/CHINMAY SHANBHAG _certificate.pdf (deflated 10%)\n",
            "  adding: certificates/NAVANEETH ARYA _certificate.pdf (deflated 10%)\n",
            "  adding: certificates/PRAMOD GG _certificate.pdf (deflated 10%)\n",
            "  adding: certificates/SINCHANA SN_certificate.pdf (deflated 10%)\n",
            "  adding: certificates/APEKSHA SHETTY _certificate.pdf (deflated 10%)\n",
            "  adding: certificates/SAHIL P AMIN _certificate.pdf (deflated 10%)\n",
            "  adding: certificates/AJAY PANDURANG MAHALE _certificate.pdf (deflated 10%)\n",
            "  adding: certificates/ESHAAN_certificate.pdf (deflated 10%)\n",
            "  adding: certificates/NITHIN KAMATH _certificate.pdf (deflated 10%)\n",
            "  adding: certificates/SHREYA M_certificate.pdf (deflated 10%)\n",
            "  adding: certificates/MANISH NAIK_certificate.pdf (deflated 10%)\n",
            "  adding: certificates/YATHEESHA K V_certificate.pdf (deflated 10%)\n",
            "  adding: certificates/GOWREESHA _certificate.pdf (deflated 10%)\n",
            "  adding: certificates/SUMESH_certificate.pdf (deflated 10%)\n",
            "  adding: certificates/SHRIRAM UDAYA KUMAR SHENOY _certificate.pdf (deflated 10%)\n",
            "  adding: certificates/RASHMI S_certificate.pdf (deflated 10%)\n",
            "  adding: certificates/SAPTHAMI SHETTY _certificate.pdf (deflated 10%)\n",
            "  adding: certificates/DISHA SURAJ KALLYA _certificate.pdf (deflated 10%)\n",
            "  adding: certificates/KOMAL NAIK_certificate.pdf (deflated 10%)\n",
            "  adding: certificates/CHARANYA K NAIK_certificate.pdf (deflated 10%)\n",
            "  adding: certificates/LASYA T P _certificate.pdf (deflated 10%)\n",
            "  adding: certificates/KARISHMA B _certificate.pdf (deflated 10%)\n",
            "  adding: certificates/BHAGYASHREE UDUPA_certificate.pdf (deflated 10%)\n",
            "  adding: certificates/JONATHAN ROQUE DSOUZA _certificate.pdf (deflated 10%)\n",
            "  adding: certificates/PRAJWAL S TIRTHAHALLI _certificate.pdf (deflated 10%)\n",
            "  adding: certificates/SANTHOSH CV_certificate.pdf (deflated 10%)\n",
            "  adding: certificates/ASHLESH D HEGDE_certificate.pdf (deflated 10%)\n",
            "  adding: certificates/ABHIJNA _certificate.pdf (deflated 10%)\n",
            "  adding: certificates/SREEDEVI P _certificate.pdf (deflated 10%)\n",
            "  adding: certificates/LIKHITH PS_certificate.pdf (deflated 10%)\n",
            "  adding: certificates/SANJANA A_certificate.pdf (deflated 10%)\n",
            "  adding: certificates/TEJAS SURESH TANDEL _certificate.pdf (deflated 10%)\n",
            "  adding: certificates/AKASH JAVALI_certificate.pdf (deflated 10%)\n",
            "  adding: certificates/SHREESHA_certificate.pdf (deflated 10%)\n",
            "  adding: certificates/SHRITIJ N SALIAN _certificate.pdf (deflated 10%)\n",
            "  adding: certificates/SARTHAK BIRADAR _certificate.pdf (deflated 10%)\n",
            "  adding: certificates/PRATHIKSHA HARISH BALERI _certificate.pdf (deflated 10%)\n",
            "  adding: certificates/ANANYA PS _certificate.pdf (deflated 10%)\n",
            "  adding: certificates/K MANISH RAO _certificate.pdf (deflated 10%)\n",
            "  adding: certificates/DENZIL SERRAO _certificate.pdf (deflated 10%)\n",
            "  adding: certificates/JAGAT PAL_certificate.pdf (deflated 10%)\n",
            "  adding: certificates/M SOORAJ SHENOY _certificate.pdf (deflated 10%)\n",
            "  adding: certificates/SAKSHI MOGER_certificate.pdf (deflated 10%)\n",
            "  adding: certificates/SHAFALI_certificate.pdf (deflated 10%)\n",
            "  adding: certificates/AKSHAY M_certificate.pdf (deflated 10%)\n",
            "  adding: certificates/PUNITH KUMAR L S_certificate.pdf (deflated 10%)\n",
            "  adding: certificates/S LOKESH PERUMAL _certificate.pdf (deflated 10%)\n",
            "  adding: certificates/SRUSHTI NAIK _certificate.pdf (deflated 10%)\n",
            "  adding: certificates/KARISHMA K_certificate.pdf (deflated 10%)\n",
            "  adding: certificates/SHREELAKSHMI RAMESH HEGDE _certificate.pdf (deflated 10%)\n",
            "  adding: certificates/SHREYA R NAYAK_certificate.pdf (deflated 10%)\n",
            "  adding: certificates/B.M.SAMRUDDHI.RAI_certificate.pdf (deflated 10%)\n",
            "  adding: certificates/B VAIBHAVI MALLYA _certificate.pdf (deflated 10%)\n",
            "  adding: certificates/AYUSH V POOJARY_certificate.pdf (deflated 10%)\n",
            "  adding: certificates/LOUKIK GANIGA K_certificate.pdf (deflated 10%)\n",
            "  adding: certificates/M.VAIBHAV_certificate.pdf (deflated 10%)\n",
            "  adding: certificates/SWATI GANESH SHET _certificate.pdf (deflated 10%)\n",
            "  adding: certificates/SUJNAN ACHARYA_certificate.pdf (deflated 10%)\n",
            "  adding: certificates/DEEKSHA _certificate.pdf (deflated 10%)\n",
            "  adding: certificates/B.THRISHALI GOWDA_certificate.pdf (deflated 10%)\n",
            "  adding: certificates/SHARAN_certificate.pdf (deflated 10%)\n"
          ]
        }
      ]
    },
    {
      "cell_type": "code",
      "source": [
        "# NOTE: This part is not required as this is to delete unwanted file created during the process\n",
        "import shutil\n",
        "folder_path = \"aa\"\n",
        "if os.path.exists(folder_path):\n",
        "    shutil.rmtree(folder_path)\n",
        "    print(f\"{folder_path} has been deleted.\")\n",
        "else:\n",
        "    print(f\"{folder_path} does not exist.\")\n"
      ],
      "metadata": {
        "colab": {
          "base_uri": "https://localhost:8080/",
          "height": 370
        },
        "id": "Dqln8XJbjmae",
        "outputId": "8351ace9-f819-48b4-82d2-dcbe77f5a485"
      },
      "execution_count": null,
      "outputs": [
        {
          "output_type": "error",
          "ename": "NotADirectoryError",
          "evalue": "[Errno 20] Not a directory: 'certificates.zip'",
          "traceback": [
            "\u001b[0;31m---------------------------------------------------------------------------\u001b[0m",
            "\u001b[0;31mNotADirectoryError\u001b[0m                        Traceback (most recent call last)",
            "\u001b[0;32m<ipython-input-38-e792ad6a9406>\u001b[0m in \u001b[0;36m<cell line: 5>\u001b[0;34m()\u001b[0m\n\u001b[1;32m      4\u001b[0m \u001b[0;31m# Delete the folder and all its contents\u001b[0m\u001b[0;34m\u001b[0m\u001b[0;34m\u001b[0m\u001b[0m\n\u001b[1;32m      5\u001b[0m \u001b[0;32mif\u001b[0m \u001b[0mos\u001b[0m\u001b[0;34m.\u001b[0m\u001b[0mpath\u001b[0m\u001b[0;34m.\u001b[0m\u001b[0mexists\u001b[0m\u001b[0;34m(\u001b[0m\u001b[0mfolder_path\u001b[0m\u001b[0;34m)\u001b[0m\u001b[0;34m:\u001b[0m\u001b[0;34m\u001b[0m\u001b[0;34m\u001b[0m\u001b[0m\n\u001b[0;32m----> 6\u001b[0;31m     \u001b[0mshutil\u001b[0m\u001b[0;34m.\u001b[0m\u001b[0mrmtree\u001b[0m\u001b[0;34m(\u001b[0m\u001b[0mfolder_path\u001b[0m\u001b[0;34m)\u001b[0m\u001b[0;34m\u001b[0m\u001b[0;34m\u001b[0m\u001b[0m\n\u001b[0m\u001b[1;32m      7\u001b[0m     \u001b[0mprint\u001b[0m\u001b[0;34m(\u001b[0m\u001b[0;34mf\"{folder_path} has been deleted.\"\u001b[0m\u001b[0;34m)\u001b[0m\u001b[0;34m\u001b[0m\u001b[0;34m\u001b[0m\u001b[0m\n\u001b[1;32m      8\u001b[0m \u001b[0;32melse\u001b[0m\u001b[0;34m:\u001b[0m\u001b[0;34m\u001b[0m\u001b[0;34m\u001b[0m\u001b[0m\n",
            "\u001b[0;32m/usr/lib/python3.10/shutil.py\u001b[0m in \u001b[0;36mrmtree\u001b[0;34m(path, ignore_errors, onerror)\u001b[0m\n\u001b[1;32m    723\u001b[0m         \u001b[0;32mtry\u001b[0m\u001b[0;34m:\u001b[0m\u001b[0;34m\u001b[0m\u001b[0;34m\u001b[0m\u001b[0m\n\u001b[1;32m    724\u001b[0m             \u001b[0;32mif\u001b[0m \u001b[0mos\u001b[0m\u001b[0;34m.\u001b[0m\u001b[0mpath\u001b[0m\u001b[0;34m.\u001b[0m\u001b[0msamestat\u001b[0m\u001b[0;34m(\u001b[0m\u001b[0morig_st\u001b[0m\u001b[0;34m,\u001b[0m \u001b[0mos\u001b[0m\u001b[0;34m.\u001b[0m\u001b[0mfstat\u001b[0m\u001b[0;34m(\u001b[0m\u001b[0mfd\u001b[0m\u001b[0;34m)\u001b[0m\u001b[0;34m)\u001b[0m\u001b[0;34m:\u001b[0m\u001b[0;34m\u001b[0m\u001b[0;34m\u001b[0m\u001b[0m\n\u001b[0;32m--> 725\u001b[0;31m                 \u001b[0m_rmtree_safe_fd\u001b[0m\u001b[0;34m(\u001b[0m\u001b[0mfd\u001b[0m\u001b[0;34m,\u001b[0m \u001b[0mpath\u001b[0m\u001b[0;34m,\u001b[0m \u001b[0monerror\u001b[0m\u001b[0;34m)\u001b[0m\u001b[0;34m\u001b[0m\u001b[0;34m\u001b[0m\u001b[0m\n\u001b[0m\u001b[1;32m    726\u001b[0m                 \u001b[0;32mtry\u001b[0m\u001b[0;34m:\u001b[0m\u001b[0;34m\u001b[0m\u001b[0;34m\u001b[0m\u001b[0m\n\u001b[1;32m    727\u001b[0m                     \u001b[0mos\u001b[0m\u001b[0;34m.\u001b[0m\u001b[0mclose\u001b[0m\u001b[0;34m(\u001b[0m\u001b[0mfd\u001b[0m\u001b[0;34m)\u001b[0m\u001b[0;34m\u001b[0m\u001b[0;34m\u001b[0m\u001b[0m\n",
            "\u001b[0;32m/usr/lib/python3.10/shutil.py\u001b[0m in \u001b[0;36m_rmtree_safe_fd\u001b[0;34m(topfd, path, onerror)\u001b[0m\n\u001b[1;32m    631\u001b[0m     \u001b[0;32mexcept\u001b[0m \u001b[0mOSError\u001b[0m \u001b[0;32mas\u001b[0m \u001b[0merr\u001b[0m\u001b[0;34m:\u001b[0m\u001b[0;34m\u001b[0m\u001b[0;34m\u001b[0m\u001b[0m\n\u001b[1;32m    632\u001b[0m         \u001b[0merr\u001b[0m\u001b[0;34m.\u001b[0m\u001b[0mfilename\u001b[0m \u001b[0;34m=\u001b[0m \u001b[0mpath\u001b[0m\u001b[0;34m\u001b[0m\u001b[0;34m\u001b[0m\u001b[0m\n\u001b[0;32m--> 633\u001b[0;31m         \u001b[0monerror\u001b[0m\u001b[0;34m(\u001b[0m\u001b[0mos\u001b[0m\u001b[0;34m.\u001b[0m\u001b[0mscandir\u001b[0m\u001b[0;34m,\u001b[0m \u001b[0mpath\u001b[0m\u001b[0;34m,\u001b[0m \u001b[0msys\u001b[0m\u001b[0;34m.\u001b[0m\u001b[0mexc_info\u001b[0m\u001b[0;34m(\u001b[0m\u001b[0;34m)\u001b[0m\u001b[0;34m)\u001b[0m\u001b[0;34m\u001b[0m\u001b[0;34m\u001b[0m\u001b[0m\n\u001b[0m\u001b[1;32m    634\u001b[0m         \u001b[0;32mreturn\u001b[0m\u001b[0;34m\u001b[0m\u001b[0;34m\u001b[0m\u001b[0m\n\u001b[1;32m    635\u001b[0m     \u001b[0;32mfor\u001b[0m \u001b[0mentry\u001b[0m \u001b[0;32min\u001b[0m \u001b[0mentries\u001b[0m\u001b[0;34m:\u001b[0m\u001b[0;34m\u001b[0m\u001b[0;34m\u001b[0m\u001b[0m\n",
            "\u001b[0;32m/usr/lib/python3.10/shutil.py\u001b[0m in \u001b[0;36m_rmtree_safe_fd\u001b[0;34m(topfd, path, onerror)\u001b[0m\n\u001b[1;32m    627\u001b[0m \u001b[0;32mdef\u001b[0m \u001b[0m_rmtree_safe_fd\u001b[0m\u001b[0;34m(\u001b[0m\u001b[0mtopfd\u001b[0m\u001b[0;34m,\u001b[0m \u001b[0mpath\u001b[0m\u001b[0;34m,\u001b[0m \u001b[0monerror\u001b[0m\u001b[0;34m)\u001b[0m\u001b[0;34m:\u001b[0m\u001b[0;34m\u001b[0m\u001b[0;34m\u001b[0m\u001b[0m\n\u001b[1;32m    628\u001b[0m     \u001b[0;32mtry\u001b[0m\u001b[0;34m:\u001b[0m\u001b[0;34m\u001b[0m\u001b[0;34m\u001b[0m\u001b[0m\n\u001b[0;32m--> 629\u001b[0;31m         \u001b[0;32mwith\u001b[0m \u001b[0mos\u001b[0m\u001b[0;34m.\u001b[0m\u001b[0mscandir\u001b[0m\u001b[0;34m(\u001b[0m\u001b[0mtopfd\u001b[0m\u001b[0;34m)\u001b[0m \u001b[0;32mas\u001b[0m \u001b[0mscandir_it\u001b[0m\u001b[0;34m:\u001b[0m\u001b[0;34m\u001b[0m\u001b[0;34m\u001b[0m\u001b[0m\n\u001b[0m\u001b[1;32m    630\u001b[0m             \u001b[0mentries\u001b[0m \u001b[0;34m=\u001b[0m \u001b[0mlist\u001b[0m\u001b[0;34m(\u001b[0m\u001b[0mscandir_it\u001b[0m\u001b[0;34m)\u001b[0m\u001b[0;34m\u001b[0m\u001b[0;34m\u001b[0m\u001b[0m\n\u001b[1;32m    631\u001b[0m     \u001b[0;32mexcept\u001b[0m \u001b[0mOSError\u001b[0m \u001b[0;32mas\u001b[0m \u001b[0merr\u001b[0m\u001b[0;34m:\u001b[0m\u001b[0;34m\u001b[0m\u001b[0;34m\u001b[0m\u001b[0m\n",
            "\u001b[0;31mNotADirectoryError\u001b[0m: [Errno 20] Not a directory: 'certificates.zip'"
          ]
        }
      ]
    }
  ]
}